{
 "cells": [
  {
   "cell_type": "markdown",
   "id": "e3d75d61-cfaa-41ac-9732-fce6c063e3be",
   "metadata": {},
   "source": [
    "# Summary\n",
    "In this notebook, we define a tensorflow model using keras."
   ]
  },
  {
   "cell_type": "markdown",
   "id": "61a18396-f4ae-492d-9027-8ef46f41cc35",
   "metadata": {},
   "source": [
    "# Modules"
   ]
  },
  {
   "cell_type": "code",
   "execution_count": 1,
   "id": "90cff4aa-9bb2-4f2b-9559-f6522f61be9e",
   "metadata": {},
   "outputs": [],
   "source": [
    "import os\n",
    "\n",
    "import pandas as pd\n",
    "\n",
    "import tensorflow as tf\n",
    "\n",
    "from sklearn.metrics import mean_squared_error\n",
    "from sklearn.model_selection import train_test_split\n",
    "from sklearn.preprocessing import MinMaxScaler"
   ]
  },
  {
   "cell_type": "markdown",
   "id": "ecb53279-47f8-49e5-adc3-62d89b7b83c8",
   "metadata": {},
   "source": [
    "# Working directory\n",
    "We set the working directory to the project folder (currently is in the notebooks folder)"
   ]
  },
  {
   "cell_type": "code",
   "execution_count": 2,
   "id": "426cc1a3-ecd6-4f6e-a7ee-6e6184761def",
   "metadata": {},
   "outputs": [],
   "source": [
    "current_directory = os.getcwd()\n",
    "if os.path.basename(current_directory) == 'notebooks':\n",
    "    os.chdir('./..')"
   ]
  },
  {
   "cell_type": "markdown",
   "id": "547f15f2-5d54-465e-83ff-24cec4b29564",
   "metadata": {
    "tags": []
   },
   "source": [
    "# Data import"
   ]
  },
  {
   "cell_type": "code",
   "execution_count": 3,
   "id": "31a46257-02f6-43d1-979c-75fb98caa338",
   "metadata": {},
   "outputs": [],
   "source": [
    "all_data_ph_pangles = pd.read_parquet('./data/all_data_ph_pangles.parquet')\n",
    "\n",
    "train_extended = all_data_ph_pangles[all_data_ph_pangles['origin'] != 'test']\n",
    "test_kaggle = all_data_ph_pangles[all_data_ph_pangles['origin'] == 'test'].reset_index(drop=True)"
   ]
  },
  {
   "cell_type": "markdown",
   "id": "32873ba0-6597-4ef1-a828-d1b9d86ac291",
   "metadata": {},
   "source": [
    "## Data split\n",
    "In this case, we only define a network training with a simple split, and in future work we will define a K-fold training."
   ]
  },
  {
   "cell_type": "code",
   "execution_count": 4,
   "id": "c6c3b8c8-47c9-4da3-b8fe-aca6d85bde55",
   "metadata": {},
   "outputs": [],
   "source": [
    "target = 'price'\n",
    "train_columns = ['carat', 'table', 'avg_girdle_diameter', 'new_x', 'new_y', 'new_z',\n",
    "                 'new_depth', 'aspect_ratio', 'cubic_volume', 'diagonal_length',\n",
    "                 'perfect_depth', 'perfect_table', 'table_x', 'table_y', 'cut_num',\n",
    "                 'clarity_pos1', 'clarity_pos2', 'clarity_code_num', 'color_num', 'colorless',\n",
    "                 'vt', 'crown_height_opt', 'girdle_height_opt', 'pavilion_height_opt', 'crown_angle',\n",
    "                 'pavilion_angle', 'culet_angle']\n",
    "\n",
    "x_train, x_test, y_train, y_test = train_test_split(train_extended[train_columns], train_extended[target], test_size=0.2, random_state=7)"
   ]
  },
  {
   "cell_type": "markdown",
   "id": "5efcd0fd-b6bc-47b6-aa53-d6a807c686bb",
   "metadata": {},
   "source": [
    "## Data preprocessing"
   ]
  },
  {
   "cell_type": "code",
   "execution_count": 5,
   "id": "eea84579-e97a-4830-b29a-f49eed8b789a",
   "metadata": {
    "tags": []
   },
   "outputs": [],
   "source": [
    "scaler_train = MinMaxScaler(clip=True)\n",
    "x_train_scaled = scaler_train.fit_transform(x_train)\n",
    "x_test_scaled = scaler_train.transform(x_test)\n",
    "test_kaggle_scaled = scaler_train.transform(test_kaggle[train_columns])"
   ]
  },
  {
   "cell_type": "markdown",
   "id": "1e5dc4b7-d6b0-441a-ae8c-d5f1c6681e2c",
   "metadata": {},
   "source": [
    "# Model definition"
   ]
  },
  {
   "cell_type": "code",
   "execution_count": 6,
   "id": "0d7e6cd3-4a16-47a3-ba32-6f5f7d61b1c3",
   "metadata": {},
   "outputs": [
    {
     "name": "stdout",
     "output_type": "stream",
     "text": [
      "Model: \"sequential\"\n",
      "_________________________________________________________________\n",
      " Layer (type)                Output Shape              Param #   \n",
      "=================================================================\n",
      " dense (Dense)               (None, 1024)              28672     \n",
      "                                                                 \n",
      " dense_1 (Dense)             (None, 512)               524800    \n",
      "                                                                 \n",
      " dense_2 (Dense)             (None, 256)               131328    \n",
      "                                                                 \n",
      " dense_3 (Dense)             (None, 128)               32896     \n",
      "                                                                 \n",
      " dense_4 (Dense)             (None, 1)                 129       \n",
      "                                                                 \n",
      "=================================================================\n",
      "Total params: 717,825\n",
      "Trainable params: 717,825\n",
      "Non-trainable params: 0\n",
      "_________________________________________________________________\n"
     ]
    }
   ],
   "source": [
    "model = tf.keras.models.Sequential([\n",
    "    tf.keras.layers.Dense(1024, activation='relu', input_shape=(x_train_scaled.shape[1],)),\n",
    "    tf.keras.layers.Dense(512, activation='relu'),\n",
    "    tf.keras.layers.Dense(256, activation='relu'),\n",
    "    tf.keras.layers.Dense(128, activation='relu'),\n",
    "    tf.keras.layers.Dense(1)\n",
    "])\n",
    "\n",
    "model.compile(\n",
    "    optimizer=tf.keras.optimizers.Adam(learning_rate=0.0001),\n",
    "    loss='mse',\n",
    "    metrics=[tf.keras.metrics.RootMeanSquaredError()]\n",
    ")\n",
    "\n",
    "model.summary()"
   ]
  },
  {
   "cell_type": "markdown",
   "id": "87e630dd-9bb4-4bdb-8f5c-357e051bd0d9",
   "metadata": {},
   "source": [
    "# Model training"
   ]
  },
  {
   "cell_type": "code",
   "execution_count": 7,
   "id": "a2b35556-41bb-48aa-978f-7b713656c9df",
   "metadata": {},
   "outputs": [
    {
     "name": "stdout",
     "output_type": "stream",
     "text": [
      "Epoch 1/100\n",
      "4411/4411 [==============================] - 21s 5ms/step - loss: 2858011.2500 - root_mean_squared_error: 1690.5653 - val_loss: 622015.6875 - val_root_mean_squared_error: 788.6797\n",
      "Epoch 2/100\n",
      "4411/4411 [==============================] - 21s 5ms/step - loss: 569279.5625 - root_mean_squared_error: 754.5062 - val_loss: 547589.5625 - val_root_mean_squared_error: 739.9929\n",
      "Epoch 3/100\n",
      "4411/4411 [==============================] - 21s 5ms/step - loss: 519873.2812 - root_mean_squared_error: 721.0224 - val_loss: 504948.0000 - val_root_mean_squared_error: 710.5969\n",
      "Epoch 4/100\n",
      "4411/4411 [==============================] - 24s 5ms/step - loss: 484089.4062 - root_mean_squared_error: 695.7653 - val_loss: 482988.2500 - val_root_mean_squared_error: 694.9736\n",
      "Epoch 5/100\n",
      "4411/4411 [==============================] - 23s 5ms/step - loss: 456274.5312 - root_mean_squared_error: 675.4810 - val_loss: 475949.9375 - val_root_mean_squared_error: 689.8912\n",
      "Epoch 6/100\n",
      "4411/4411 [==============================] - 21s 5ms/step - loss: 432145.2812 - root_mean_squared_error: 657.3776 - val_loss: 427780.5000 - val_root_mean_squared_error: 654.0493\n",
      "Epoch 7/100\n",
      "4411/4411 [==============================] - 22s 5ms/step - loss: 415536.9688 - root_mean_squared_error: 644.6216 - val_loss: 414865.5312 - val_root_mean_squared_error: 644.1006\n",
      "Epoch 8/100\n",
      "4411/4411 [==============================] - 23s 5ms/step - loss: 400667.7188 - root_mean_squared_error: 632.9832 - val_loss: 397492.5000 - val_root_mean_squared_error: 630.4701\n",
      "Epoch 9/100\n",
      "4411/4411 [==============================] - 22s 5ms/step - loss: 392103.8750 - root_mean_squared_error: 626.1820 - val_loss: 389957.2188 - val_root_mean_squared_error: 624.4656\n",
      "Epoch 10/100\n",
      "4411/4411 [==============================] - 27s 6ms/step - loss: 384271.1250 - root_mean_squared_error: 619.8961 - val_loss: 388750.1875 - val_root_mean_squared_error: 623.4984\n",
      "Epoch 11/100\n",
      "4411/4411 [==============================] - 31s 7ms/step - loss: 377981.5312 - root_mean_squared_error: 614.8020 - val_loss: 412150.3438 - val_root_mean_squared_error: 641.9894\n",
      "Epoch 12/100\n",
      "4411/4411 [==============================] - 27s 6ms/step - loss: 374217.4375 - root_mean_squared_error: 611.7332 - val_loss: 395333.4375 - val_root_mean_squared_error: 628.7555\n",
      "Epoch 13/100\n",
      "4411/4411 [==============================] - 30s 7ms/step - loss: 371087.5000 - root_mean_squared_error: 609.1695 - val_loss: 377459.0625 - val_root_mean_squared_error: 614.3770\n",
      "Epoch 14/100\n",
      "4411/4411 [==============================] - 24s 6ms/step - loss: 367800.1562 - root_mean_squared_error: 606.4653 - val_loss: 371115.6875 - val_root_mean_squared_error: 609.1926\n",
      "Epoch 15/100\n",
      "4411/4411 [==============================] - 23s 5ms/step - loss: 363175.2188 - root_mean_squared_error: 602.6402 - val_loss: 383024.9062 - val_root_mean_squared_error: 618.8901\n",
      "Epoch 16/100\n",
      "4411/4411 [==============================] - 24s 5ms/step - loss: 360691.1562 - root_mean_squared_error: 600.5757 - val_loss: 362155.0312 - val_root_mean_squared_error: 601.7932\n",
      "Epoch 17/100\n",
      "4411/4411 [==============================] - 23s 5ms/step - loss: 359613.3750 - root_mean_squared_error: 599.6777 - val_loss: 364727.5000 - val_root_mean_squared_error: 603.9268\n",
      "Epoch 18/100\n",
      "4411/4411 [==============================] - 25s 6ms/step - loss: 359229.6250 - root_mean_squared_error: 599.3577 - val_loss: 379654.7500 - val_root_mean_squared_error: 616.1613\n",
      "Epoch 19/100\n",
      "4411/4411 [==============================] - 23s 5ms/step - loss: 358077.2500 - root_mean_squared_error: 598.3956 - val_loss: 357798.9688 - val_root_mean_squared_error: 598.1630\n",
      "Epoch 20/100\n",
      "4411/4411 [==============================] - 23s 5ms/step - loss: 355092.8125 - root_mean_squared_error: 595.8967 - val_loss: 385421.4062 - val_root_mean_squared_error: 620.8232\n",
      "Epoch 21/100\n",
      "4411/4411 [==============================] - 25s 6ms/step - loss: 354967.4375 - root_mean_squared_error: 595.7914 - val_loss: 360857.5312 - val_root_mean_squared_error: 600.7142\n",
      "Epoch 22/100\n",
      "4411/4411 [==============================] - 23s 5ms/step - loss: 353407.5312 - root_mean_squared_error: 594.4809 - val_loss: 373370.9688 - val_root_mean_squared_error: 611.0409\n",
      "Epoch 23/100\n",
      "4411/4411 [==============================] - 24s 5ms/step - loss: 352765.6562 - root_mean_squared_error: 593.9408 - val_loss: 356269.8750 - val_root_mean_squared_error: 596.8835\n",
      "Epoch 24/100\n",
      "4411/4411 [==============================] - 25s 6ms/step - loss: 351524.4062 - root_mean_squared_error: 592.8950 - val_loss: 351164.8125 - val_root_mean_squared_error: 592.5916\n",
      "Epoch 25/100\n",
      "4411/4411 [==============================] - 24s 5ms/step - loss: 351037.7500 - root_mean_squared_error: 592.4844 - val_loss: 350738.5938 - val_root_mean_squared_error: 592.2319\n",
      "Epoch 26/100\n",
      "4411/4411 [==============================] - 25s 6ms/step - loss: 350664.3125 - root_mean_squared_error: 592.1691 - val_loss: 352943.7500 - val_root_mean_squared_error: 594.0907\n",
      "Epoch 27/100\n",
      "4411/4411 [==============================] - 23s 5ms/step - loss: 350887.5000 - root_mean_squared_error: 592.3576 - val_loss: 373499.2188 - val_root_mean_squared_error: 611.1458\n",
      "Epoch 28/100\n",
      "4411/4411 [==============================] - 24s 5ms/step - loss: 350241.2188 - root_mean_squared_error: 591.8118 - val_loss: 365594.4062 - val_root_mean_squared_error: 604.6440\n",
      "Epoch 29/100\n",
      "4411/4411 [==============================] - 25s 6ms/step - loss: 348289.9062 - root_mean_squared_error: 590.1609 - val_loss: 348396.6562 - val_root_mean_squared_error: 590.2513\n",
      "Epoch 30/100\n",
      "4411/4411 [==============================] - 26s 6ms/step - loss: 348364.1875 - root_mean_squared_error: 590.2238 - val_loss: 346850.2188 - val_root_mean_squared_error: 588.9399\n",
      "Epoch 31/100\n",
      "4411/4411 [==============================] - 24s 6ms/step - loss: 346665.8438 - root_mean_squared_error: 588.7834 - val_loss: 346356.2500 - val_root_mean_squared_error: 588.5204\n",
      "Epoch 32/100\n",
      "4411/4411 [==============================] - 22s 5ms/step - loss: 347035.4688 - root_mean_squared_error: 589.0972 - val_loss: 349052.4688 - val_root_mean_squared_error: 590.8066\n",
      "Epoch 33/100\n",
      "4411/4411 [==============================] - 23s 5ms/step - loss: 347947.3125 - root_mean_squared_error: 589.8706 - val_loss: 365145.7812 - val_root_mean_squared_error: 604.2729\n",
      "Epoch 34/100\n",
      "4411/4411 [==============================] - 24s 5ms/step - loss: 347181.9062 - root_mean_squared_error: 589.2214 - val_loss: 355890.0000 - val_root_mean_squared_error: 596.5652\n",
      "Epoch 35/100\n",
      "4411/4411 [==============================] - 24s 5ms/step - loss: 347473.5312 - root_mean_squared_error: 589.4689 - val_loss: 351381.1250 - val_root_mean_squared_error: 592.7741\n",
      "Epoch 36/100\n",
      "4411/4411 [==============================] - 24s 5ms/step - loss: 345253.5938 - root_mean_squared_error: 587.5828 - val_loss: 348709.4062 - val_root_mean_squared_error: 590.5162\n",
      "Epoch 37/100\n",
      "4411/4411 [==============================] - 24s 5ms/step - loss: 345158.6562 - root_mean_squared_error: 587.5021 - val_loss: 348869.8125 - val_root_mean_squared_error: 590.6520\n",
      "Epoch 38/100\n",
      "4411/4411 [==============================] - 23s 5ms/step - loss: 344800.4062 - root_mean_squared_error: 587.1971 - val_loss: 346687.6875 - val_root_mean_squared_error: 588.8019\n",
      "Epoch 39/100\n",
      "4411/4411 [==============================] - 23s 5ms/step - loss: 343979.6562 - root_mean_squared_error: 586.4978 - val_loss: 349652.8750 - val_root_mean_squared_error: 591.3145\n",
      "Epoch 40/100\n",
      "4411/4411 [==============================] - 24s 6ms/step - loss: 344778.3750 - root_mean_squared_error: 587.1783 - val_loss: 354860.1250 - val_root_mean_squared_error: 595.7014\n",
      "Epoch 41/100\n",
      "4411/4411 [==============================] - 24s 5ms/step - loss: 344075.1875 - root_mean_squared_error: 586.5792 - val_loss: 372066.9375 - val_root_mean_squared_error: 609.9729\n"
     ]
    },
    {
     "data": {
      "text/plain": [
       "<keras.callbacks.History at 0x2bf4e075930>"
      ]
     },
     "execution_count": 7,
     "metadata": {},
     "output_type": "execute_result"
    }
   ],
   "source": [
    "callback = tf.keras.callbacks.EarlyStopping(patience=10)\n",
    "model.fit(\n",
    "    x_train_scaled,\n",
    "    y_train,\n",
    "    epochs=100,\n",
    "    batch_size=32,\n",
    "    validation_split=0.2,\n",
    "    callbacks=callback,\n",
    "    verbose=1\n",
    ")"
   ]
  },
  {
   "cell_type": "markdown",
   "id": "9fc23ef8-3435-4eb6-9fa8-2bc38f7261e3",
   "metadata": {},
   "source": [
    "# Model evaluation"
   ]
  },
  {
   "cell_type": "code",
   "execution_count": 8,
   "id": "52f5150d-09f5-4565-982d-c849e4ffc5b8",
   "metadata": {},
   "outputs": [
    {
     "name": "stdout",
     "output_type": "stream",
     "text": [
      "1379/1379 [==============================] - 3s 2ms/step\n",
      "Model NN: Loss 600.9551\n"
     ]
    }
   ],
   "source": [
    "test_predictions = model.predict(x_test_scaled)\n",
    "model_loss = mean_squared_error(y_test, test_predictions, squared=False)\n",
    "print(f'Model NN: Loss {model_loss:.4f}')"
   ]
  },
  {
   "cell_type": "markdown",
   "id": "3d6384ea-836e-4298-94ed-363f8640ff63",
   "metadata": {},
   "source": [
    "# Kaggle predictions"
   ]
  },
  {
   "cell_type": "code",
   "execution_count": 9,
   "id": "803427e6-d1ee-4f69-a512-c2afea77160f",
   "metadata": {},
   "outputs": [
    {
     "name": "stdout",
     "output_type": "stream",
     "text": [
      "4033/4033 [==============================] - 8s 2ms/step\n"
     ]
    }
   ],
   "source": [
    "test_kaggle['price'] = model.predict(test_kaggle_scaled)\n",
    "test_kaggle['price'].to_csv(f'./outputs/base_keras_nn.csv', index_label='id')"
   ]
  }
 ],
 "metadata": {
  "kernelspec": {
   "display_name": "Python 3 (ipykernel)",
   "language": "python",
   "name": "python3"
  },
  "language_info": {
   "codemirror_mode": {
    "name": "ipython",
    "version": 3
   },
   "file_extension": ".py",
   "mimetype": "text/x-python",
   "name": "python",
   "nbconvert_exporter": "python",
   "pygments_lexer": "ipython3",
   "version": "3.10.6"
  }
 },
 "nbformat": 4,
 "nbformat_minor": 5
}
